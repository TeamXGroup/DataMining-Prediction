{
 "cells": [
  {
   "cell_type": "markdown",
   "id": "f44283fc",
   "metadata": {},
   "source": [
    "# Prédiction du Secteur le plus rentable au Maroc "
   ]
  },
  {
   "cell_type": "code",
   "execution_count": 14,
   "id": "0369b8e4",
   "metadata": {},
   "outputs": [
    {
     "name": "stderr",
     "output_type": "stream",
     "text": [
      "D:\\Anaconda\\Lib\\site-packages\\sklearn\\base.py:464: UserWarning: X does not have valid feature names, but RandomForestRegressor was fitted with feature names\n",
      "  warnings.warn(\n",
      "D:\\Anaconda\\Lib\\site-packages\\sklearn\\base.py:464: UserWarning: X does not have valid feature names, but RandomForestRegressor was fitted with feature names\n",
      "  warnings.warn(\n",
      "D:\\Anaconda\\Lib\\site-packages\\sklearn\\base.py:464: UserWarning: X does not have valid feature names, but RandomForestRegressor was fitted with feature names\n",
      "  warnings.warn(\n",
      "D:\\Anaconda\\Lib\\site-packages\\sklearn\\base.py:464: UserWarning: X does not have valid feature names, but RandomForestRegressor was fitted with feature names\n",
      "  warnings.warn(\n",
      "D:\\Anaconda\\Lib\\site-packages\\sklearn\\base.py:464: UserWarning: X does not have valid feature names, but RandomForestRegressor was fitted with feature names\n",
      "  warnings.warn(\n",
      "D:\\Anaconda\\Lib\\site-packages\\sklearn\\base.py:464: UserWarning: X does not have valid feature names, but RandomForestRegressor was fitted with feature names\n",
      "  warnings.warn(\n",
      "D:\\Anaconda\\Lib\\site-packages\\sklearn\\base.py:464: UserWarning: X does not have valid feature names, but RandomForestRegressor was fitted with feature names\n",
      "  warnings.warn(\n"
     ]
    },
    {
     "data": {
      "image/png": "[encoded data removed]",
      "text/plain": [
       "<Figure size 1000x600 with 1 Axes>"
      ]
     },
     "metadata": {},
     "output_type": "display_data"
    },
    {
     "name": "stdout",
     "output_type": "stream",
     "text": [
      ">>>>>>   The most estimated profitable sector in Morocco is : << Industrie >> with a profitability metric of 1.360236   <<<<<<\n"
     ]
    }
   ],
   "source": [
    "# Predict Most Profitable Sector in Morocco\n",
    "\n",
    "\n",
    "def predict(\n",
    "    Consommation_Finale,\n",
    "    Excédent_brut_dexploitation,\n",
    "    Exportations,\n",
    "    Impôts_sur_les_produits,\n",
    "    PIB,\n",
    "    Production_nationale,\n",
    "    Salaires_bruts,\n",
    "):\n",
    "    sector = [Consommation_Finale,\n",
    "    Excédent_brut_dexploitation,\n",
    "    Exportations,\n",
    "    Impôts_sur_les_produits,\n",
    "    PIB,\n",
    "    Production_nationale,\n",
    "    Salaires_bruts]\n",
    "    \n",
    "    return round(rf_model.predict([sector])[0], 6)\n",
    "    \n",
    "\n",
    "# Calculate the mean of each economic indicator for every sector\n",
    "sector_means = df.groupby('Secteur').mean()\n",
    "sector_means = sector_means.drop(columns=['Année', 'composite_profitability'])\n",
    "# Create a dictionary with sector names as keys and their corresponding means as values\n",
    "sector_arrays = sector_means.T.to_dict('list')\n",
    "result = {}\n",
    "for sector, means in sector_arrays.items():\n",
    "    profitability = predict (\n",
    "                    Consommation_Finale=means[0],\n",
    "                    Excédent_brut_dexploitation=means[1],\n",
    "                    Exportations=means[2],\n",
    "                    Impôts_sur_les_produits=means[3],\n",
    "                    PIB=means[4],\n",
    "                    Production_nationale=means[5],\n",
    "                    Salaires_bruts=means[6],\n",
    "                    )    \n",
    "    result[sector] = profitability\n",
    "    \n",
    "# Find the key-value pair with the maximum value\n",
    "max_pair = max(result.items(), key=lambda item: item[1])\n",
    "# Extract the key and value from the max_pair\n",
    "max_key, max_value = max_pair\n",
    "\n",
    "# Plot the results\n",
    "# Create a DataFrame from the dictionary\n",
    "result_df = pd.DataFrame(list(result.items()), columns=['Sector', 'Profitability Metric'])\n",
    "# Create a seaborn bar plot\n",
    "plt.figure(figsize=(10, 6))\n",
    "sns.barplot(x='Sector', y='Profitability Metric', data=result_df, palette='icefire')\n",
    "# Add titles and labels\n",
    "plt.title('Estimated Profitability Metric by Sector')\n",
    "plt.xlabel('Sector')\n",
    "plt.ylabel('Profitability Metric')\n",
    "# Improve the aesthetics\n",
    "sns.despine()\n",
    "# Show the plot\n",
    "plt.show()\n",
    "\n",
    "print(f\">>>>>>   The most estimated profitable sector in Morocco is : << {max_key} >> with a profitability metric of {max_value}   <<<<<<\")\n",
    "    \n",
    "        "
   ]
  },
  {
   "cell_type": "markdown",
   "id": "709f4682",
   "metadata": {},
   "source": [
    "**General Prediction of Profitability Metric**"
   ]
  },
  {
   "cell_type": "code",
   "execution_count": 15,
   "id": "54dbfe7c",
   "metadata": {},
   "outputs": [
    {
     "name": "stdout",
     "output_type": "stream",
     "text": [
      "The profitability metric is between  -0.455681 and -0.377342 \n",
      "\n",
      "LinearRegression_model: -0.455681 \tScore:  99.3 %\n",
      "RandomForest_model: -0.377342 \t\tScore:  99.8 %\n",
      "SupportVector_model: -0.452939 \t\tScore:  98.6 %\n",
      "\n",
      ">>> The estimated profitability metric -0.377342\n"
     ]
    },
    {
     "name": "stderr",
     "output_type": "stream",
     "text": [
      "D:\\Anaconda\\Lib\\site-packages\\sklearn\\base.py:464: UserWarning: X does not have valid feature names, but LinearRegression was fitted with feature names\n",
      "  warnings.warn(\n",
      "D:\\Anaconda\\Lib\\site-packages\\sklearn\\base.py:464: UserWarning: X does not have valid feature names, but RandomForestRegressor was fitted with feature names\n",
      "  warnings.warn(\n",
      "D:\\Anaconda\\Lib\\site-packages\\sklearn\\base.py:464: UserWarning: X does not have valid feature names, but SVR was fitted with feature names\n",
      "  warnings.warn(\n"
     ]
    }
   ],
   "source": [
    "# Predict Metric Profitability For Any Sector\n",
    "\n",
    "\n",
    "\n",
    "def predict(\n",
    "    Consommation_Finale,\n",
    "    Excédent_brut_dexploitation,\n",
    "    Exportations,\n",
    "    Impôts_sur_les_produits,\n",
    "    PIB,\n",
    "    Production_nationale,\n",
    "    Salaires_bruts,\n",
    "):\n",
    "    sector = [Consommation_Finale,\n",
    "    Excédent_brut_dexploitation,\n",
    "    Exportations,\n",
    "    Impôts_sur_les_produits,\n",
    "    PIB,\n",
    "    Production_nationale,\n",
    "    Salaires_bruts]\n",
    "    # Predict the target value using the model\n",
    "    predictions = [round(linear_model.predict([sector])[0], 6),\n",
    "                   round(rf_model.predict([sector])[0], 6),\n",
    "                   round(svr_model.predict([sector])[0], 6)]\n",
    "    \n",
    "    print('The profitability metric is between ',min(predictions),'and',max(predictions),'\\n')\n",
    "    \n",
    "    print('LinearRegression_model:',predictions[0],'\\tScore: ',round(r2_linear,3)*100,'%')\n",
    "    print('RandomForest_model:',predictions[1],'\\t\\tScore: ',round(r2_rf,3)*100,'%')\n",
    "    print('SupportVector_model:',predictions[2],'\\t\\tScore: ',round(r2_svr,3)*100,'%')\n",
    "    \n",
    "    print('\\n>>> The estimated profitability metric', predictions[1])\n",
    "    \n",
    "    \n",
    "    \n",
    "predict ( # Random Values\n",
    "    Consommation_Finale=6723.14,\n",
    "    Excédent_brut_dexploitation=37750,\n",
    "    Exportations=14568.1349,\n",
    "    Impôts_sur_les_produits=11246.12,\n",
    "    PIB=60421.132,\n",
    "    Production_nationale=120001,\n",
    "    Salaires_bruts=25350.3,\n",
    ")    "
   ]
  },
  {
   "cell_type": "code",
   "execution_count": null,
   "id": "1d249e0f",
   "metadata": {},
   "outputs": [],
   "source": []
  }
 ],
 "metadata": {
  "kernelspec": {
   "display_name": "Python 3 (ipykernel)",
   "language": "python",
   "name": "python3"
  },
  "language_info": {
   "codemirror_mode": {
    "name": "ipython",
    "version": 3
   },
   "file_extension": ".py",
   "mimetype": "text/x-python",
   "name": "python",
   "nbconvert_exporter": "python",
   "pygments_lexer": "ipython3",
   "version": "3.11.5"
  }
 },
 "nbformat": 4,
 "nbformat_minor": 5
}
